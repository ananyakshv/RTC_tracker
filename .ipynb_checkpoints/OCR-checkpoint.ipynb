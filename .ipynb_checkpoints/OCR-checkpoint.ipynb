{
 "cells": [
  {
   "cell_type": "code",
   "execution_count": 23,
   "id": "60e31af7-fd6b-4646-8084-03280aaee7ee",
   "metadata": {
    "scrolled": true
   },
   "outputs": [
    {
     "name": "stdout",
     "output_type": "stream",
     "text": [
      "OCR Output:  ಟಬ\": ಆಫ್‌ ರೈಟ್ಸ್‌ , ಗೇಣಿ ಮತ್ತು ಪಠಣಿ ಬುತ್ರಿಕೆ (8.1.0) ಭರಣ [3 ; ೪1 ತುದ (ಬಿಟ 6 ೫100130\n",
      "1 [1 ಇ ಚ 3186 170೧7 :೨0: - 19/08/2! :83:\n",
      "೩ ಗ ಎಲ ಮೋ) ಆಂಗ ಗು ದೇವನಹಳ್ಳಿ ಡಿ ಕಸಬಾ ಗಾಮ ದೇವೇನಹಳ್ಳಿ ಬ ಲ ಚಹಫಚಚತ್ಚ 53\n",
      "| | ತೆ ಬೇವು (ಅಟಿ (12013 (ಕೆ | 4 _ಕಟಟಿಂಲ ಕ (1/0 ಸ್‌ 1. ಕಟಿ (ಟ ವಂ ಎಟ್ಟಿಭೀ ಕಿಟುಟಣಿ ಉಟಟು ನಿಸ್ಕೀು! ಮಾತೆ 10 ಕಟೆ ಅಭವ ಹ 3.೨೨.. ನ 1 24೮ ಆಳೆ!1(ಆ) ಪ್ತ ಯಗಳು\n",
      "ವೆ ಒಟ್ಟು ಮಸೀರ್ಣ 1.06.00.00 (ಡಿ) ಭೂಕಂದುಂಟು 1.96 ತ _ತೆಂಟೆಂಬ ಹೆಸರು ಸತ್ತು ವಿಲನ್‌ ಎ ಇ ಗುಂ ನಂ. 0 ಕಲ್ಛ ಅಳ. ಸ ಸಧೀಗ 00 ರೀತಿ ಹ ಇಸ್ಮುಗಳು __ ಶಿಸುಣಗಳು:\n",
      "22 ಪೂಟ್‌ ಖಲುಬ್‌ (ಅ) (ಬ) ಚೋಡಿ *ಮಾಳಮ್ಮ - ಲೇ ಹನುಮಪ್ಪ | 0.18.00.0ಕ83 ೧೧-1೦-222 ಕ್ರಯ\n",
      "ಜಿ ಪೊಟ್‌ ಖರುಬ್‌ (ಬ) ಕೈಕೆ) ಸಟ ಗಳು\n",
      "ಉಳಿದರು 1.06,0000 (ಚ) ನೀರಿ ಚಳೆ “ರಾಜಣ್ಣ - ಪ.ಮುನಿಶಾಮಪ್ಪ 0.09.00.0  2/98-99\n",
      "ಆ ಗದ *ಆ೦ಜನಪ್ಪ - ಮುನಿಶಾಮಪ್ಪ 0.04.08.0 11೧-12/94 95\n",
      "2. ಹಿಸ್ಸಾ. ೯ 000 1. 11311 11111111 ಬ ಫ್‌ ೀ್‌ *ರಾಮಪ್ಪ - ಮುನಿಶಾಮಪ್ಪ 0.04.08.0 1೧13/94 95\n",
      "” ಸ ಪ ದ [_ಅಫಬೆ36_ಶಶೆ್ಕೆ [ಶಾಂತಮ್ಮ ಕೋಂ ನಾರಾಯಣ: 00.06 83 ೧ 5/2008-2009 ಪೌತಿ\n",
      "ಮಣ್ಣಿನ |? ಮರಗಳ ಸಂಖ್ಠ ೮. ಬೇತುವಾರ ಬಟರ ಲುವರಿಯ ವಿಸ್ತ 05/11/2008\n",
      "ಟೆಮೂಸೆ ಗೀಲುವರಿ 1\n",
      "ಹೆಸರು. ಸಂಡೆ ಕ | ೫೫1 ಮುಲಗುಟ | ಹಿಂಗುರು | 04 ಊಟ\n",
      "ಕಟಕ ನರರಾನರ ಕ ನನು ಜೂ ್ಪಂ ನಂದಾ ಭತ ಧಾನರನದರ್‌ ಗ ದ\n",
      "1 _ ಕೆರೆ 16.0.0 1.6.0\n",
      "ರಟ್ಟ ೯ ಚ್ತ್ತಾಾಾ್ತಾತಪ ಚಟ ತ ರ್ತುರ್ತ ಹ್ತ 43 ಭು ಮಿಯ ಉಪೆಯೋಗ ಮತ್ತು ಬೆಲೆಗಳ ಎ ಲ\n",
      "ವರ್ಷ ವ್ಯಮೊಎ0112ಟೆಟೆ ಹಸೆಯ ಸಾಗುವ ಗೇಣಿಯ ವಿಭರ ಭೂಮಿಂ೧ ಉಪಯೋಗ ಖುಷ್ಕಿ. ತರಿ, ಬೆಳೆಯ ವಿಸ್ತೀಣಃ ನೀರಾವರಿಯ ಎಕರೆಗೆ 2೬೫, ಬೆಳೆಗಳ ಓಟ\n",
      "ಮತ್ತು ಕಾಲ ಹ ಗ. ಬೆಡ್ದೆತಿ |. ವಿಸ್ತೀರ್ಣ 1 ಗುತ್ತಿಗೆ] ಬರ್ಗ[ ವಿಸ್ತೀರ್ಣ | ಬಾಣುಯ್ಮು ಬೆಳೆಯ ಹಸರು ಅಮಿಶ್ರ ಮಿತ, ಒಟ್ಟು ಮೂಲ ಉತ್ಪತ್ತೆ ಮಿಶಣದ ಹೆಸರು | ವಿಸ್ತೀರ್ಣ\n",
      "__ ಸಲ ಲ ಬಗ ಬ ್ಲಕಉಜೃ್ಯ್ಪ [ಛೀ 5 ತ311322113.342 11345511323... ... ಬ ಎಂ\n",
      "2012-2013| ಮಾಳಪ್ಪ - ದ | 56.0.0 ತರಿ ಬ೦ಜರು ನ\n",
      "ಮುಂಗಾರ\n",
      "ರಾಜಣ್ಣ - ಎ\n",
      "ಆ೦ಜನಪ್ಸ - ಎ 9 4.8\n",
      "ರಾಮಪ್ಪ - ಸ್ವಲ. 9 4.8\n",
      "ಶಾ೦ತಮ್ಮ - ನಾರಾಯಣಸ್ವಾಮಿ ಸ್ವಂ. 9 10.0.0\n",
      "2012-2013 ಮಾಳಪ್ಪ - ದ 7 6.0.0 ತರಿ ಬ೦ಜರು ನ\n",
      "ಹಿಂಗಾರು\n",
      "ರಾಜಣ್ಣ - ಎ\n",
      "ಆ೦ಜನಪ್ಪ - ಎ 9 4.8\n",
      "೧೯೮ 01೧೮11/411/ 51೧8೫೩೯೧ ೦8 8/19/2015\n",
      "\n"
     ]
    }
   ],
   "source": [
    "import pytesseract\n",
    "from PIL import Image, ImageEnhance\n",
    "import cv2\n",
    "import numpy as np\n",
    "\n",
    "# Set the correct path to Tesseract executable\n",
    "pytesseract.pytesseract.tesseract_cmd = r\"C:\\Users\\Ananya K\\AppData\\Local\\Programs\\Tesseract-OCR\\tesseract.exe\"\n",
    "\n",
    "# Load image\n",
    "image_path = r\"D:\\projects\\RTC_LLM\\rtc2.png\"\n",
    "image = Image.open(image_path)\n",
    "\n",
    "# Convert image to grayscale\n",
    "image = image.convert(\"L\")\n",
    "\n",
    "# Convert the image to an OpenCV format for better image manipulation\n",
    "opencv_image = np.array(image)\n",
    "\n",
    "# Denoise the image with Gaussian Blur\n",
    "opencv_image = cv2.GaussianBlur(opencv_image, (5, 5), 0)\n",
    "\n",
    "# Apply thresholding to further clean up the image\n",
    "_, opencv_image = cv2.threshold(opencv_image, 150, 255, cv2.THRESH_BINARY_INV)\n",
    "\n",
    "# Convert back to PIL image\n",
    "image = Image.fromarray(opencv_image)\n",
    "\n",
    "# Increase contrast for better readability\n",
    "enhancer = ImageEnhance.Contrast(image)\n",
    "image = enhancer.enhance(2)  # Adjust this factor to your needs\n",
    "\n",
    "# Use Tesseract OCR with custom configuration for better accuracy\n",
    "custom_config = r'--oem 3 --psm 6'\n",
    "text = pytesseract.image_to_string(image, lang='kan', config=custom_config)\n",
    "\n",
    "print(\"OCR Output: \", text)\n"
   ]
  },
  {
   "cell_type": "code",
   "execution_count": null,
   "id": "6b720b53-e9b7-4879-b787-ccf31be081f4",
   "metadata": {},
   "outputs": [],
   "source": [
    "# import pytesseract\n",
    "# from PIL import Image\n",
    "\n",
    "\n",
    "# pytesseract.pytesseract.tesseract_cmd = r\"C:\\Users\\Ananya K\\AppData\\Local\\Programs\\Tesseract-OCR\\tesseract.exe\"\n",
    "\n",
    "\n",
    "# image_path = r\"D:\\projects\\RTC_LLM\\rtc14.png\"\n",
    "# image = Image.open(image_path)\n",
    "\n",
    "\n",
    "# text = pytesseract.image_to_string(image, lang='kan')\n",
    "# print(text)\n"
   ]
  },
  {
   "cell_type": "code",
   "execution_count": 1,
   "id": "82a2e400-1f39-4dd8-814d-3a38dc1fb6ca",
   "metadata": {},
   "outputs": [],
   "source": [
    "# import pytesseract\n",
    "# from pdf2image import convert_from_path\n",
    "\n",
    "# pytesseract.pytesseract.tesseract_cmd = r'C:\\Users\\Ananya K\\AppData\\Local\\Programs\\Tesseract-OCR\\tesseract.exe'\n",
    "\n",
    "# pages = convert_from_path('ml1.pdf', 300)\n",
    "# text = \"\"\n",
    "\n",
    "# for i, page in enumerate(pages):\n",
    "#     text += pytesseract.image_to_string(page, lang='eng')\n",
    "\n",
    "# print(text)\n"
   ]
  },
  {
   "cell_type": "code",
   "execution_count": null,
   "id": "fdd51163-705d-4baf-80db-2c2425da0983",
   "metadata": {},
   "outputs": [],
   "source": []
  }
 ],
 "metadata": {
  "kernelspec": {
   "display_name": "Python [conda env:myenv]",
   "language": "python",
   "name": "conda-env-myenv-py"
  },
  "language_info": {
   "codemirror_mode": {
    "name": "ipython",
    "version": 3
   },
   "file_extension": ".py",
   "mimetype": "text/x-python",
   "name": "python",
   "nbconvert_exporter": "python",
   "pygments_lexer": "ipython3",
   "version": "3.9.21"
  }
 },
 "nbformat": 4,
 "nbformat_minor": 5
}
