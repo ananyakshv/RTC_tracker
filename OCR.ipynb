{
 "cells": [
  {
   "cell_type": "code",
   "execution_count": 7,
   "id": "60e31af7-fd6b-4646-8084-03280aaee7ee",
   "metadata": {
    "scrolled": true
   },
   "outputs": [
    {
     "name": "stdout",
     "output_type": "stream",
     "text": [
      "OCR Output:  ಟಬ\": ಆಫ್‌ ರೈಟ್ಸ್‌, ಗೇಣಿ ಮತ್ತು ಪಠಣಿ ಆತ್ರಿಕೆ (೧.7.0) ಖಂಟಣ [3 2 4೫) 41 ುಾ'\n",
      "ಟಟ .೬1.1.. ೨ ` 3186 170೧7 ೬ :80: 0 5-08- :90:\n",
      "೩ ಗ ಎಲ ಮೋ) ಆಂಗ ಗು ದೇವನಹಳ್ಳಿ ಡಿ ಕಸಬಾ ಗಾಮ ದೇವೇನಹಳ್ಳಿ ಬ ಲ ಚಹಫಚಚತ್ಚ\n",
      "| | ತೆ ಬೇವು (ಅಟಿ (12013 (ಕೆ | 4 _ಕಟಟಿಂಲ ಕ (1/0 ಸ್‌ 1. ಕಟಿ (ಟ ವಂ ಎಟ್ಟಿಭೀ ಕಿಟುಟಣಿ ಉಟಟು ನಿಸ್ಕೀು! ಮಾತೆ 10 ಕಟೆ ಅಭವ ಹ 3.೨೨.. ನ 1 24೮ ಆಳೆ!1(ಆ) ಪ್ತ ಯಗಳು\n",
      "ವೆ ಒಟ್ಟು ಮಸೀರ್ಣ 1.06.00.00 (ಡಿ) ಭೂಕಂದುಂಟು 1.96 ಪ _ತೆಂಬೆಂದಬ ಹೆಸಲು ಮತ್ತು ವಿಲನ್‌ ಎ ಇ ಗುಂ ನಂ. 0 ಕಲ್ಛ ಅಳ. ಸ ಸಧೀಗ 00 ರೀತಿ ೫... 3 ..\n",
      "ಪೂಟ್‌ ಖರಾಬ್‌ (6) (ಬ) ಚೋಡಿ 0.00 ಶಿ ಶೆ ಚ\n",
      "22 ಪೂಟ್‌ ಖರಾಟ್‌ (ಬ) (4) ನಿಸುಗಳು 0.00 ಮಾಳಮ್ಮ - ಲೇ ಹನುಮಪ್ಪ 0.18.00.0083 ೧೧-11೦-222 ಕ್ರಯ\n",
      "ಉಳಿದದ್ದು 1.06.00.00 (ಆ) ನೀರಿಗೆ ಭಟ 0.00 ರಾಜಣ್ಣ - ಪ.ಮುನಿಶಾಮಪ್ಪ 0.09.00.0 8೧ 2/98 99\n",
      "2ರ ಖೃ ಭಘ ಐ... ಒಟ್ಟು | 196 ___ (ಆ೦ಜನಪ್ಪ - ಮುನಿಶಾಮಪ್ಪ ೧.೧4.08.0 ॥1/7-13/94-95\n",
      "3 ಮ್ಸೆನ 7 ಮರಗಳ ಬಂಖ್ಟಿ ೨ | ಖೇತುವಾರ ಪ್ರಕಾರ ರುವರಿಯ ವಿಶ್ತೀಣ್ಣ. ೨ ರಾಮಪ್ಪ ತ ಮುನಿಶಾಮಪ್ಪ ೧.04.08.0 ೧13/94 965\n",
      "ಟಮೂನೆ ದಾನಾರಾರರ್‌  ' ಬ 6866 | ನ” 0 11701111311\n",
      "ಟಿ ಹೆಸಲು ಬೆಂಡೆ ಗೆ | ೫ ಮುುಂಗಾಟ ಗಿರ (| ಬು/ಬಂ ಒಟ್ಟು ಶಾ೦ತಮ್ಮ ಕೋಂ ನಾರಾಯಣ _2೫0.00.0 8೫ ೧ 572008 2009\n",
      "ಕಟಕ 33 1111 11 1 1 11. 18 ಸ ರದ” ಸಾವ ಗಡ ಇ\n",
      "ಕೆರೆ 106.00.00 06.00.00 05/11/2008 ಪೌತಿ\n",
      "ರಟ್ಟ ೯ ಚ್ತ್ತಾಾಾ್ತಾತಪ ಚಟ ತ ರ್ತುರ್ತ ಹ್ತ 43 ಭು ಮಿಯ ಉಪೆಯೋಗ ಮತ್ತು ಬೆಲೆಗಳ ಎ ಲ\n",
      "ವರ್ಷ ವ್ಯಮೊಎ0112ಟೆಟೆ ಹಸೆಯ ಸಾಗುವ ಗೇಣಿಯ ವಿಭರ ಭೂಮಿಂ೧ ಉಪಯೋಗ ಖುಷ್ಕಿ. ತರಿ, ಬೆಳೆಯ ವಿಸ್ತೀಣಃ ನೀರಾವರಿಯ ಎಕರೆಗೆ 2೬೫, ಬೆಳೆಗಳ ಓಟ\n",
      "ಮತ್ತು ಕಾಲ ಹ ಗ. ಬೆಡ್ದೆತಿ |. ವಿಸ್ತೀರ್ಣ 1 ಗುತ್ತಿಗೆ] ಬರ್ಗ[ ವಿಸ್ತೀರ್ಣ | ಬಾಣುಯ್ಮು ಬೆಳೆಯ ಹಸರು ಅಮಿಶ್ರ ಮಿತ, ಒಟ್ಟು ಮೂಲ ಉತ್ಪತ್ತೆ ಮಿಶಣದ ಹೆಸರು | ವಿಸ್ತೀರ್ಣ\n",
      "__ ಸಲ ಲ ಬಗ ಬ ್ಲಕಉಜೃ್ಯ್ಪ [ಛೀ 5 ತ311322113.342 11345511323... ... ಬ ಎಂ\n",
      "2013-2014] ಮಾಳಪ್ಪ 1. 0.00.00.06 0.00 | ದ ಜಾಲಿ, ಬೀಳು 0.00.00.09 0.670200೫/00\n",
      "ಹಿಂಗಾರು\n",
      "ರಾಜಣ್ಣ ದ 0.00.00.00 0.00 ದ್‌ ಜಾಲಿ, ಬೀಳು 0.00.00.00 0.9708008/00\n",
      "ಆ೦ಜನಪ್ಪ ಎ 0.00.00.00 0.00 ದ ಜಾಲಿ, ಬೀಳು 0.00.00.0$ 0.%9008008/00\n",
      "ರಾಮಪ್ಪ, ಸ್ವ೦ ದ ಜಾಲಿ, ಬೀಳು 0.೧೧.00.೧॥ ೧.೫7೧೫7೧೫೫೧೧\n",
      "ಶಾ೦ತಮ್ಮ ನಾರಾಯಣಸ್ವಾಮಿ ಸ್ವ೦ತೆ 0.10.00.0 ಎ ಜಾಲಿ, ಬೀಳು 0.00.00.0) 0.%೧2೩08/00\n",
      "2013-2014 ಮಾಳಪ್ಪ ದ ೧.೧೦.೦೧.0೦0 0.00 | 7 1.06.00.06 ತರಿ ಬ೦ಜರು ೧.೧೦.೦೧.೦॥ 0.8708008/00 ದ ೧.00\n",
      "ಮುಂಗಾರ\n",
      "ರಾಜೂ ದ ೧.೧೦.೦0.೧0 0.00\n",
      "ಆ೦ಜನಪ್ಪ ದ ೧.೧೦.೦೧.೦॥ 0.00 |9 0.04.08.0\n",
      "\n"
     ]
    }
   ],
   "source": [
    "import pytesseract\n",
    "from PIL import Image, ImageEnhance\n",
    "import cv2\n",
    "import numpy as np\n",
    "\n",
    "# Set the correct path to Tesseract executable\n",
    "pytesseract.pytesseract.tesseract_cmd = r\"C:\\Users\\Ananya K\\AppData\\Local\\Programs\\Tesseract-OCR\\tesseract.exe\"\n",
    "\n",
    "# Load image\n",
    "image_path = r\"D:\\projects\\RTC_LLM\\RTC1.png\"\n",
    "image = Image.open(image_path)\n",
    "\n",
    "# Convert image to grayscale\n",
    "image = image.convert(\"L\")\n",
    "\n",
    "# Convert the image to an OpenCV format for better image manipulation\n",
    "opencv_image = np.array(image)\n",
    "\n",
    "# Denoise the image with Gaussian Blur\n",
    "opencv_image = cv2.GaussianBlur(opencv_image, (5, 5), 0)\n",
    "\n",
    "# Apply thresholding to further clean up the image\n",
    "_, opencv_image = cv2.threshold(opencv_image, 150, 255, cv2.THRESH_BINARY_INV)\n",
    "\n",
    "# Convert back to PIL image\n",
    "image = Image.fromarray(opencv_image)\n",
    "\n",
    "# Increase contrast for better readability\n",
    "enhancer = ImageEnhance.Contrast(image)\n",
    "image = enhancer.enhance(2)  # Adjust this factor to your needs\n",
    "\n",
    "# Use Tesseract OCR with custom configuration for better accuracy\n",
    "custom_config = r'--oem 3 --psm 6'\n",
    "text = pytesseract.image_to_string(image, lang='kan', config=custom_config)\n",
    "\n",
    "print(\"OCR Output: \", text)\n"
   ]
  },
  {
   "cell_type": "code",
   "execution_count": null,
   "id": "6b720b53-e9b7-4879-b787-ccf31be081f4",
   "metadata": {},
   "outputs": [],
   "source": [
    "# import pytesseract\n",
    "# from PIL import Image\n",
    "\n",
    "\n",
    "# pytesseract.pytesseract.tesseract_cmd = r\"C:\\Users\\Ananya K\\AppData\\Local\\Programs\\Tesseract-OCR\\tesseract.exe\"\n",
    "\n",
    "\n",
    "# image_path = r\"D:\\projects\\RTC_LLM\\rtc14.png\"\n",
    "# image = Image.open(image_path)\n",
    "\n",
    "\n",
    "# text = pytesseract.image_to_string(image, lang='kan')\n",
    "# print(text)\n"
   ]
  },
  {
   "cell_type": "code",
   "execution_count": 1,
   "id": "82a2e400-1f39-4dd8-814d-3a38dc1fb6ca",
   "metadata": {},
   "outputs": [],
   "source": [
    "# import pytesseract\n",
    "# from pdf2image import convert_from_path\n",
    "\n",
    "# pytesseract.pytesseract.tesseract_cmd = r'C:\\Users\\Ananya K\\AppData\\Local\\Programs\\Tesseract-OCR\\tesseract.exe'\n",
    "\n",
    "# pages = convert_from_path('ml1.pdf', 300)\n",
    "# text = \"\"\n",
    "\n",
    "# for i, page in enumerate(pages):\n",
    "#     text += pytesseract.image_to_string(page, lang='eng')\n",
    "\n",
    "# print(text)\n"
   ]
  },
  {
   "cell_type": "code",
   "execution_count": null,
   "id": "fdd51163-705d-4baf-80db-2c2425da0983",
   "metadata": {},
   "outputs": [],
   "source": []
  }
 ],
 "metadata": {
  "kernelspec": {
   "display_name": "Python [conda env:myenv]",
   "language": "python",
   "name": "conda-env-myenv-py"
  },
  "language_info": {
   "codemirror_mode": {
    "name": "ipython",
    "version": 3
   },
   "file_extension": ".py",
   "mimetype": "text/x-python",
   "name": "python",
   "nbconvert_exporter": "python",
   "pygments_lexer": "ipython3",
   "version": "3.9.21"
  }
 },
 "nbformat": 4,
 "nbformat_minor": 5
}
